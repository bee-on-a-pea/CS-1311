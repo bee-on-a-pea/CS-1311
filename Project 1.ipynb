{
 "cells": [
  {
   "cell_type": "raw",
   "id": "df9793d9",
   "metadata": {},
   "source": [
    "####  MUBEENA WAHAJ\n",
    "#### PROJECT 1\n",
    "\n",
    "#Things to do in the program:\n",
    "## 1.Input\n",
    "##       Receive the coefficients (A, B, C) individually and interactively from the keyboard with a specific prompt message              specifying the coefficient being received.\n",
    "## 2.Calculate the roots (two roots)\n",
    "## 3.Output \n",
    "##     o Display coefficient A\n",
    "##     o Display coefficient B\n",
    "##     o Display coefficient C\n",
    "##     o Display the roots\n",
    "\n"
   ]
  },
  {
   "cell_type": "code",
   "execution_count": 36,
   "id": "c5d9a45a",
   "metadata": {},
   "outputs": [
    {
     "name": "stdout",
     "output_type": "stream",
     "text": [
      "Enter value for coefficient A: -10\n",
      "Enter value for coefficient B: -9\n",
      "Enter value for coefficient C: 1\n",
      "\n",
      " Your coefficient A value is: -10.0 \n",
      " Your coefficient B value is: -9.0 \n",
      " Your coefficient C value is: 1.0\n",
      " Your Root values are: -1.0 and  0.1\n"
     ]
    }
   ],
   "source": [
    "# Getting our inputs\n",
    "\n",
    "A = float(input('Enter value for coefficient A: '))\n",
    "B = float(input('Enter value for coefficient B: '))\n",
    "C = float(input('Enter value for coefficient C: '))\n",
    "\n",
    "#Quadratic Calculation \n",
    "\n",
    "inside_calculations = (B ** 2)-(4 * A * C)      \n",
    "Root_1 = (-B + (inside_calculations**0.5) )/ (2 * A) #first approach: done so that calculation does \n",
    "                                                                            #not get too complicated\n",
    "\n",
    "\n",
    "Root_2 = (-B - (((B ** 2)-(4 * A * C) )** 0.5)) / (2 * A)   #second approach\n",
    "\n",
    "#Outputting our values\n",
    "print('\\n Your coefficient A value is:',A,'\\n Your coefficient B value is:', B,'\\n Your coefficient C value is:' , C )\n",
    "print (' Your Root values are:', Root_1 , 'and ', Root_2)"
   ]
  },
  {
   "cell_type": "code",
   "execution_count": 37,
   "id": "b0683288",
   "metadata": {},
   "outputs": [
    {
     "name": "stdout",
     "output_type": "stream",
     "text": [
      "\n",
      " \n",
      " \n",
      "please ignore. This is a testing for negative value calculation\n",
      "Enter value for coefficient A 69\n",
      "Enter value for coefficient B 63\n",
      "6.0\n"
     ]
    }
   ],
   "source": [
    "### please ignore. This is a testing for negative value calculation\n",
    "print('\\n \\n \\nplease ignore. This is a testing for negative value calculation')\n",
    "A = float(input('Enter value for coefficient A '))\n",
    "B = float(input('Enter value for coefficient B '))\n",
    "\n",
    "\n",
    "calc= (-B) + A\n",
    "print(calc)"
   ]
  }
 ],
 "metadata": {
  "kernelspec": {
   "display_name": "Python 3 (ipykernel)",
   "language": "python",
   "name": "python3"
  },
  "language_info": {
   "codemirror_mode": {
    "name": "ipython",
    "version": 3
   },
   "file_extension": ".py",
   "mimetype": "text/x-python",
   "name": "python",
   "nbconvert_exporter": "python",
   "pygments_lexer": "ipython3",
   "version": "3.9.12"
  }
 },
 "nbformat": 4,
 "nbformat_minor": 5
}
